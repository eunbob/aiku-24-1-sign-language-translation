{
  "cells": [
    {
      "cell_type": "code",
      "execution_count": null,
      "metadata": {
        "colab": {
          "base_uri": "https://localhost:8080/"
        },
        "id": "stM0OBkMzB3t",
        "outputId": "d2afe1b6-cdfd-4ee7-9d90-e6546f646491"
      },
      "outputs": [
        {
          "output_type": "stream",
          "name": "stdout",
          "text": [
            "Mounted at /content/drive\n"
          ]
        }
      ],
      "source": [
        "from google.colab import drive\n",
        "drive.mount('/content/drive')"
      ]
    },
    {
      "cell_type": "code",
      "execution_count": null,
      "metadata": {
        "colab": {
          "base_uri": "https://localhost:8080/"
        },
        "id": "4jdBOYmqzTC5",
        "outputId": "4fb5ee4d-194b-4880-ca9d-aaf318911971"
      },
      "outputs": [
        {
          "output_type": "stream",
          "name": "stdout",
          "text": [
            "Collecting av\n",
            "  Downloading av-12.1.0-cp310-cp310-manylinux_2_17_x86_64.manylinux2014_x86_64.whl (34.3 MB)\n",
            "\u001b[2K     \u001b[90m━━━━━━━━━━━━━━━━━━━━━━━━━━━━━━━━━━━━━━━━\u001b[0m \u001b[32m34.3/34.3 MB\u001b[0m \u001b[31m34.4 MB/s\u001b[0m eta \u001b[36m0:00:00\u001b[0m\n",
            "\u001b[?25hInstalling collected packages: av\n",
            "Successfully installed av-12.1.0\n"
          ]
        }
      ],
      "source": [
        "!pip install av"
      ]
    },
    {
      "cell_type": "code",
      "execution_count": null,
      "metadata": {
        "id": "JdDHZ8QfzUGB"
      },
      "outputs": [],
      "source": [
        "import os\n",
        "import pickle\n",
        "import numpy as np\n",
        "import torch\n",
        "import av\n",
        "from collections import defaultdict\n",
        "from tqdm import tqdm\n",
        "from transformers import VivitImageProcessor, VivitForVideoClassification\n",
        "from sklearn.metrics.pairwise import cosine_similarity\n",
        "from sklearn.metrics import pairwise_distances\n",
        "from sklearn.metrics.pairwise import linear_kernel\n",
        "from sklearn.metrics.pairwise import polynomial_kernel\n",
        "from sklearn.metrics.pairwise import sigmoid_kernel\n",
        "from sklearn.metrics.pairwise import rbf_kernel\n",
        "from sklearn.metrics.pairwise import laplacian_kernel"
      ]
    },
    {
      "cell_type": "markdown",
      "metadata": {
        "id": "Jwqm0fHn-XYV"
      },
      "source": [
        "## **1. 학습 모델 불러오기**"
      ]
    },
    {
      "cell_type": "code",
      "execution_count": null,
      "metadata": {
        "colab": {
          "base_uri": "https://localhost:8080/",
          "height": 113,
          "referenced_widgets": [
            "77a2e3787c14457fbecb66f73cd59759",
            "154670b0e6ba4422a0e4edcac2cf07bf",
            "a0df5b27154241f28d9bc54ebb5012b8",
            "3d2f8cacb6c14fa4bdd4d37e945dfc4a",
            "90f2c4c512c54fedbc302bc6049b647e",
            "9e4cd35857414fafb42cc5c9da1447a2",
            "a961bd7ce0664d419bbf16a57474a3ad",
            "afc6295165e549d2aebc7b421cbcb18f",
            "acc841b2722a47c4a1ad41c47ba9f199",
            "bcafa54ce9a74c9caf5a81550d2ea4a3",
            "07fe832e610545ba8952dcb3f20cd2c9",
            "d9a72883b8204ecdbf7265eb069373a8",
            "b54a680745714b59a2039fad42368be3",
            "521a89f9a2c74cf195201c2c51c72cfa",
            "a97a67b87d3b42018c0ee35bc4541482",
            "5095eb23410b4f36abd070d8fee8c0a2",
            "6db122a8a895412c8e790351201e6236",
            "e59b0eb9ef65412092d2b41d71d32e78",
            "287444eb406740dbb0f0b358c8e6f6f0",
            "c7defa0f820a4e92bca94724d132696b",
            "0e6ac98404ff4b648938df3db2ac51ac",
            "a7d13ac39b6545ae92e154a73355b9fb",
            "b788cf7f83994fcfba15f638d97db4e8",
            "a99b99e3bdbc47248f53b86f0e65f6b0",
            "d7e17b2ddb8e439e9525d90691785dbd",
            "f95f9d20b7d24b6b9e69709a721308e2",
            "48c5a89e81674019ba2f3cbf64a1290f",
            "5ed1e99b815d468aa88a3326a9675ea2",
            "b04428ffd8c243c6bfaa006bf6dd9d56",
            "ebdcbbb67d6441b98adb3bc60244ee48",
            "c13020a5ccff487ba0c1f7d0396995b6",
            "edda63d0101b489f9c3093629e5ec03b",
            "4baa3004621944a7b7640f9dce2ef060"
          ]
        },
        "id": "GwcLD6pe4MFE",
        "outputId": "b34dd756-2a58-43de-e7a6-206f47ff0767"
      },
      "outputs": [
        {
          "output_type": "display_data",
          "data": {
            "text/plain": [
              "preprocessor_config.json:   0%|          | 0.00/724 [00:00<?, ?B/s]"
            ],
            "application/vnd.jupyter.widget-view+json": {
              "version_major": 2,
              "version_minor": 0,
              "model_id": "77a2e3787c14457fbecb66f73cd59759"
            }
          },
          "metadata": {}
        },
        {
          "output_type": "display_data",
          "data": {
            "text/plain": [
              "config.json:   0%|          | 0.00/1.64k [00:00<?, ?B/s]"
            ],
            "application/vnd.jupyter.widget-view+json": {
              "version_major": 2,
              "version_minor": 0,
              "model_id": "d9a72883b8204ecdbf7265eb069373a8"
            }
          },
          "metadata": {}
        },
        {
          "output_type": "display_data",
          "data": {
            "text/plain": [
              "model.safetensors:   0%|          | 0.00/355M [00:00<?, ?B/s]"
            ],
            "application/vnd.jupyter.widget-view+json": {
              "version_major": 2,
              "version_minor": 0,
              "model_id": "b788cf7f83994fcfba15f638d97db4e8"
            }
          },
          "metadata": {}
        }
      ],
      "source": [
        "from transformers import pipeline\n",
        "from transformers import VivitImageProcessor\n",
        "\n",
        "model_name = \"kkumtori/vivit-b-16x2-kinetics400-0511-mediapipe\" # 허깅링크 9차회의록\n",
        "\n",
        "image_processor = VivitImageProcessor.from_pretrained(model_name)\n",
        "video_cls = pipeline(model = model_name)\n",
        "video_cls.image_processor = image_processor"
      ]
    },
    {
      "cell_type": "code",
      "execution_count": null,
      "metadata": {
        "colab": {
          "base_uri": "https://localhost:8080/"
        },
        "id": "BqCLj_qx4xog",
        "outputId": "ac578279-9577-404c-9b9a-9f9de302232e"
      },
      "outputs": [
        {
          "output_type": "execute_result",
          "data": {
            "text/plain": [
              "device(type='cuda')"
            ]
          },
          "metadata": {},
          "execution_count": 140
        }
      ],
      "source": [
        "device = torch.device(\"cuda\" if torch.cuda.is_available() else \"cpu\")\n",
        "device"
      ]
    },
    {
      "cell_type": "markdown",
      "metadata": {
        "id": "KhJGxjfF-2qJ"
      },
      "source": [
        "## **2. functions**"
      ]
    },
    {
      "cell_type": "code",
      "execution_count": null,
      "metadata": {
        "id": "okzZQ7_d6ViT"
      },
      "outputs": [],
      "source": [
        "def read_video_pyav(container, indices):\n",
        "    frames = []\n",
        "    container.seek(0)\n",
        "    start_index = indices[0]\n",
        "    end_index = indices[-1]\n",
        "    for i, frame in enumerate(container.decode(video=0)):\n",
        "        if i > end_index:\n",
        "            break\n",
        "        if i >= start_index and i in indices:\n",
        "            frames.append(frame)\n",
        "    return np.stack([x.to_ndarray(format=\"rgb24\") for x in frames])\n",
        "\n",
        "def sample_frame_indices(clip_len, frame_sample_rate, seg_len):\n",
        "    converted_len = int(clip_len * frame_sample_rate)\n",
        "    end_idx = np.random.randint(converted_len, seg_len)\n",
        "    start_idx = end_idx - converted_len\n",
        "    indices = np.linspace(start_idx, end_idx, num=clip_len)\n",
        "    indices = np.clip(indices, start_idx, end_idx - 1).astype(np.int64)\n",
        "    return indices\n",
        "\n",
        "def load_word_dictionary(pkl_file_path):\n",
        "    \"\"\"단어 사전 불러오는 함수\"\"\"\n",
        "    with open(pkl_file_path, 'rb') as f:\n",
        "        word_dictionary = pickle.load(f)\n",
        "    return word_dictionary"
      ]
    },
    {
      "cell_type": "code",
      "execution_count": null,
      "metadata": {
        "id": "ijCciOqZ-7Sv"
      },
      "outputs": [],
      "source": [
        "def process_video_files(folder_paths):\n",
        "    \"\"\"hidden layer 뽑는 함수\"\"\"\n",
        "    image_processor = video_cls.image_processor\n",
        "    model = video_cls.model\n",
        "    model.to(device)\n",
        "    feature_dict = defaultdict(list)\n",
        "\n",
        "    for folder_path in folder_paths:\n",
        "        # 폴더명을 클래스 이름으로 사용\n",
        "        for class_label in tqdm(os.listdir(folder_path)):\n",
        "            class_path = os.path.join(folder_path, class_label)\n",
        "            if not os.path.isdir(class_path):\n",
        "                continue\n",
        "\n",
        "            # 클래스 별 폴더 내 모든 파일을 탐색\n",
        "            for filename in os.listdir(class_path):\n",
        "                if filename.endswith(\".mp4\"):\n",
        "                    file_path = os.path.join(class_path, filename)\n",
        "                    container = av.open(file_path)\n",
        "\n",
        "                    # 32 프레임 샘플링\n",
        "                    indices = sample_frame_indices(clip_len=32, frame_sample_rate=1, seg_len=container.streams.video[0].frames)\n",
        "                    video = read_video_pyav(container=container, indices=indices)\n",
        "\n",
        "                    # 비디오를 모델에 맞게 준비\n",
        "                    inputs = image_processor(list(video), return_tensors=\"pt\").to(device)\n",
        "\n",
        "                    # 모델을 통한 전파\n",
        "                    with torch.no_grad():\n",
        "                        outputs = model(**inputs, output_hidden_states=True)\n",
        "                        logits = outputs.logits\n",
        "                        hidden_states = outputs.hidden_states\n",
        "                        last_hidden = hidden_states[-1]\n",
        "\n",
        "                    # 클래스별로 마지막 히든 레이어의 특징 저장\n",
        "                    predictions = torch.argmax(logits, dim=-1)\n",
        "                    for idx, prediction in enumerate(predictions):\n",
        "                        last_hidden = last_hidden[idx].cpu().numpy()\n",
        "                        # print(last_hidden.shape)\n",
        "                        feature_dict[class_label].append(last_hidden[idx])\n",
        "    return feature_dict"
      ]
    },
    {
      "cell_type": "code",
      "source": [
        "def diagonal_average(matrix):\n",
        "    \"\"\"\n",
        "    Extract the diagonal elements of an nxn matrix and calculate their average.\n",
        "\n",
        "    Parameters:\n",
        "    matrix (list of list of int/float): The nxn matrix.\n",
        "\n",
        "    Returns:\n",
        "    float: The average of the diagonal elements of the matrix.\n",
        "    \"\"\"\n",
        "    n = len(matrix)  # Assuming matrix is a square matrix (nxn)\n",
        "    diagonal_elements = [matrix[i][i] for i in range(n)]\n",
        "\n",
        "    if not diagonal_elements:\n",
        "        return 0  # To handle empty lists, though in this context it shouldn't happen\n",
        "\n",
        "    average = sum(diagonal_elements) / len(diagonal_elements)\n",
        "    return average\n",
        "\n",
        "# # Example usage:\n",
        "# matrix = [\n",
        "#     [1, 2, 3],\n",
        "#     [4, 5, 6],\n",
        "#     [7, 8, 9]\n",
        "# ]\n",
        "\n",
        "# average = diagonal_average(matrix)\n",
        "# print(f\"Average of diagonal elements: {average}\")  # Output: Average of diagonal elements: 5.0\n"
      ],
      "metadata": {
        "id": "BknwPq4nD3q2"
      },
      "execution_count": null,
      "outputs": []
    },
    {
      "cell_type": "code",
      "source": [
        "def row_max_average(matrix):\n",
        "    \"\"\"\n",
        "    Extract the maximum value from each row of an nxn matrix and calculate their average.\n",
        "\n",
        "    Parameters:\n",
        "    matrix (list of list of int/float): The nxn matrix.\n",
        "\n",
        "    Returns:\n",
        "    float: The average of the maximum values from each row of the matrix.\n",
        "    \"\"\"\n",
        "    if not matrix or not matrix[0]:\n",
        "        return 0  # Handle empty matrix or empty rows\n",
        "\n",
        "    max_values = [max(row) for row in matrix]\n",
        "\n",
        "    average = sum(max_values) / len(max_values)\n",
        "    return average\n",
        "\n",
        "# # Example usage:\n",
        "# matrix = [\n",
        "#     [1, 2, 3],\n",
        "#     [4, 5, 6],\n",
        "#     [7, 8, 9]\n",
        "# ]\n",
        "\n",
        "# average = row_max_average(matrix)\n",
        "# print(f\"Average of the maximum values from each row: {average}\")  # Output: Average of the maximum values from each row: 6.0\n"
      ],
      "metadata": {
        "id": "1qitPDiJIJre"
      },
      "execution_count": null,
      "outputs": []
    },
    {
      "cell_type": "code",
      "execution_count": null,
      "metadata": {
        "id": "XMJG9bdu_BRg"
      },
      "outputs": [],
      "source": [
        "def predict_with_dictionary(feature_dict, word_dictionary):\n",
        "    \"\"\"단어 사전을 사용한 예측 함수\"\"\"\n",
        "    total_videos = 0\n",
        "    correct_predictions = 0\n",
        "\n",
        "    for class_label, features in feature_dict.items():\n",
        "        for pred_feature in feature_dict[class_label]:\n",
        "            similarities = {}\n",
        "            for word, word_feature in word_dictionary.items():\n",
        "                # similarity = cosine_similarity([pred_feature], [word_feature])[0][0]\n",
        "                # similarity = row_max_average(cosine_similarity([pred_feature], [word_feature]))\n",
        "                # similarity = -row_max_average(pairwise_distances([pred_feature], [word_feature], metric='manhattan'))\n",
        "                # similarity = row_max_average(linear_kernel([pred_feature], [word_feature]))\n",
        "                # similarity = row_max_average(polynomial_kernel([pred_feature], [word_feature], degree=2))\n",
        "                # similarity = row_max_average(sigmoid_kernel([pred_feature], [word_feature]))\n",
        "                # similarity = row_max_average(rbf_kernel([pred_feature], [word_feature]))\n",
        "                similarity = row_max_average(laplacian_kernel([pred_feature], [word_feature]))\n",
        "\n",
        "\n",
        "                similarities[word] = similarity\n",
        "            most_similar_word = max(similarities, key=similarities.get)\n",
        "            print(f\"단어(class_label): {class_label}, 예측(most_similar_word): {most_similar_word}\")\n",
        "\n",
        "            total_videos += 1\n",
        "            if most_similar_word == class_label:\n",
        "                correct_predictions += 1\n",
        "        print('---------------------------------')\n",
        "    print(correct_predictions, '/', total_videos)\n",
        "    return correct_predictions / total_videos"
      ]
    },
    {
      "cell_type": "markdown",
      "metadata": {
        "id": "KRVESTxxKzNU"
      },
      "source": [
        "## **3. 단어사전 불러오기**"
      ]
    },
    {
      "cell_type": "code",
      "execution_count": null,
      "metadata": {
        "id": "6pYyone3_Rrq"
      },
      "outputs": [],
      "source": [
        "# 단어 사전\n",
        "pkl_file_path_max = '/content/drive/MyDrive/기컴비_텀프/code/feature_dictionary/pkl/M_max_pooled_features.pkl'\n",
        "pkl_file_path_average = '/content/drive/MyDrive/기컴비_텀프/code/feature_dictionary/pkl/M_average_pooled_features.pkl'\n",
        "\n",
        "word_dictionary_max = load_word_dictionary(pkl_file_path_max)\n",
        "word_dictionary_average = load_word_dictionary(pkl_file_path_average)"
      ]
    },
    {
      "cell_type": "code",
      "execution_count": null,
      "metadata": {
        "colab": {
          "base_uri": "https://localhost:8080/"
        },
        "id": "XqHGnZNXRoIe",
        "outputId": "d772389f-5741-4f20-f451-e15ac163d242"
      },
      "outputs": [
        {
          "output_type": "stream",
          "name": "stdout",
          "text": [
            "True\n",
            "True\n",
            "True\n",
            "True\n",
            "True\n",
            "True\n",
            "True\n",
            "True\n",
            "True\n",
            "True\n"
          ]
        }
      ],
      "source": [
        "for k in word_dictionary_max.keys():\n",
        "    print(list(word_dictionary_max[k])==list(word_dictionary_average[k]))"
      ]
    },
    {
      "cell_type": "markdown",
      "metadata": {
        "id": "sc4VhkPMR6GG"
      },
      "source": [
        "ㄴ 이상하다.. ! 피클이 잘못 저장된 듯  . ."
      ]
    },
    {
      "cell_type": "code",
      "execution_count": null,
      "metadata": {
        "id": "o-ToczOpMRQs"
      },
      "outputs": [],
      "source": [
        "# all_features.pkl 에서 avg,max 다시 뽑기\n",
        "pkl_file_path_all = '/content/drive/MyDrive/기컴비_텀프/code/feature_dictionary/pkl/M_all_features.pkl'\n",
        "word_dictionary_all = load_word_dictionary(pkl_file_path_all)"
      ]
    },
    {
      "cell_type": "code",
      "execution_count": null,
      "metadata": {
        "colab": {
          "base_uri": "https://localhost:8080/"
        },
        "id": "puT6wUTYMq4s",
        "outputId": "2081e543-3751-420a-8d08-a8ac9a4e701e"
      },
      "outputs": [
        {
          "output_type": "stream",
          "name": "stdout",
          "text": [
            "붕대\n",
            "구급차\n",
            "의사\n",
            "골절\n",
            "쓰러지다\n",
            "가렵다\n",
            "배고프다\n",
            "친구\n",
            "병원\n",
            "다리\n"
          ]
        }
      ],
      "source": [
        "tmp_max = dict()\n",
        "tmp_avg = dict()\n",
        "for k,v in word_dictionary_all.items():\n",
        "    print(k)\n",
        "    tmp_max[k]=np.array(v).max(axis=0)\n",
        "    tmp_avg[k]=np.array(v).mean(axis=0)"
      ]
    },
    {
      "cell_type": "code",
      "execution_count": null,
      "metadata": {
        "colab": {
          "base_uri": "https://localhost:8080/"
        },
        "id": "H26SVuBmGwSu",
        "outputId": "4fe2d772-e14e-4ce8-8549-370317b5fd82"
      },
      "outputs": [
        {
          "output_type": "stream",
          "name": "stdout",
          "text": [
            "False\n",
            "False\n",
            "False\n",
            "False\n",
            "False\n",
            "False\n",
            "False\n",
            "False\n",
            "False\n",
            "False\n"
          ]
        }
      ],
      "source": [
        "for k in tmp_max.keys():\n",
        "    print(list(tmp_max[k])==list(tmp_avg[k]))"
      ]
    },
    {
      "cell_type": "markdown",
      "metadata": {
        "id": "daQJ21zuK1xE"
      },
      "source": [
        "## **4. 평가**"
      ]
    },
    {
      "cell_type": "code",
      "execution_count": null,
      "metadata": {
        "colab": {
          "base_uri": "https://localhost:8080/"
        },
        "id": "XrD7JuFyKifM",
        "outputId": "dd543f04-ef69-4d56-f7b1-d03ef7b564e5"
      },
      "outputs": [
        {
          "output_type": "stream",
          "name": "stderr",
          "text": [
            "100%|██████████| 10/10 [02:41<00:00, 16.11s/it]\n"
          ]
        }
      ],
      "source": [
        "# 폴더 경로 설정 및 평가 함수 호출\n",
        "folder_paths = ['/content/drive/MyDrive/기컴비_텀프/data/train_dataset/mediapipe/test']\n",
        "all_features = process_video_files(folder_paths)"
      ]
    },
    {
      "cell_type": "code",
      "execution_count": null,
      "metadata": {
        "colab": {
          "base_uri": "https://localhost:8080/"
        },
        "id": "JCxvtLshER2k",
        "outputId": "627776ea-6cb2-4501-b47b-2b6bec389d82"
      },
      "outputs": [
        {
          "output_type": "stream",
          "name": "stdout",
          "text": [
            "붕대 10 (768,)\n",
            "구급차 10 (768,)\n",
            "의사 10 (768,)\n",
            "골절 10 (768,)\n",
            "쓰러지다 10 (768,)\n",
            "가렵다 10 (768,)\n",
            "배고프다 10 (768,)\n",
            "친구 10 (768,)\n",
            "병원 10 (768,)\n",
            "다리 10 (768,)\n"
          ]
        }
      ],
      "source": [
        "for k,v in all_features.items():\n",
        "    print(k,len(v),v[0].shape)"
      ]
    },
    {
      "cell_type": "code",
      "execution_count": null,
      "metadata": {
        "colab": {
          "base_uri": "https://localhost:8080/"
        },
        "id": "ZFkiKmsp9mZX",
        "outputId": "f814a08b-20d9-4cac-f99a-0e9ed3b6771b"
      },
      "outputs": [
        {
          "output_type": "stream",
          "name": "stdout",
          "text": [
            "단어(class_label): 붕대, 예측(most_similar_word): 다리\n",
            "단어(class_label): 붕대, 예측(most_similar_word): 다리\n",
            "단어(class_label): 붕대, 예측(most_similar_word): 다리\n",
            "단어(class_label): 붕대, 예측(most_similar_word): 다리\n",
            "단어(class_label): 붕대, 예측(most_similar_word): 다리\n",
            "단어(class_label): 붕대, 예측(most_similar_word): 다리\n",
            "단어(class_label): 붕대, 예측(most_similar_word): 다리\n",
            "단어(class_label): 붕대, 예측(most_similar_word): 다리\n",
            "단어(class_label): 붕대, 예측(most_similar_word): 다리\n",
            "단어(class_label): 붕대, 예측(most_similar_word): 다리\n",
            "---------------------------------\n",
            "단어(class_label): 구급차, 예측(most_similar_word): 다리\n",
            "단어(class_label): 구급차, 예측(most_similar_word): 다리\n",
            "단어(class_label): 구급차, 예측(most_similar_word): 다리\n",
            "단어(class_label): 구급차, 예측(most_similar_word): 다리\n",
            "단어(class_label): 구급차, 예측(most_similar_word): 다리\n",
            "단어(class_label): 구급차, 예측(most_similar_word): 다리\n",
            "단어(class_label): 구급차, 예측(most_similar_word): 다리\n",
            "단어(class_label): 구급차, 예측(most_similar_word): 다리\n",
            "단어(class_label): 구급차, 예측(most_similar_word): 다리\n",
            "단어(class_label): 구급차, 예측(most_similar_word): 다리\n",
            "---------------------------------\n",
            "단어(class_label): 의사, 예측(most_similar_word): 다리\n",
            "단어(class_label): 의사, 예측(most_similar_word): 다리\n",
            "단어(class_label): 의사, 예측(most_similar_word): 다리\n",
            "단어(class_label): 의사, 예측(most_similar_word): 다리\n",
            "단어(class_label): 의사, 예측(most_similar_word): 다리\n",
            "단어(class_label): 의사, 예측(most_similar_word): 다리\n",
            "단어(class_label): 의사, 예측(most_similar_word): 다리\n",
            "단어(class_label): 의사, 예측(most_similar_word): 다리\n",
            "단어(class_label): 의사, 예측(most_similar_word): 다리\n",
            "단어(class_label): 의사, 예측(most_similar_word): 다리\n",
            "---------------------------------\n",
            "단어(class_label): 골절, 예측(most_similar_word): 병원\n",
            "단어(class_label): 골절, 예측(most_similar_word): 다리\n",
            "단어(class_label): 골절, 예측(most_similar_word): 다리\n",
            "단어(class_label): 골절, 예측(most_similar_word): 다리\n",
            "단어(class_label): 골절, 예측(most_similar_word): 다리\n",
            "단어(class_label): 골절, 예측(most_similar_word): 다리\n",
            "단어(class_label): 골절, 예측(most_similar_word): 다리\n",
            "단어(class_label): 골절, 예측(most_similar_word): 다리\n",
            "단어(class_label): 골절, 예측(most_similar_word): 다리\n",
            "단어(class_label): 골절, 예측(most_similar_word): 다리\n",
            "---------------------------------\n",
            "단어(class_label): 쓰러지다, 예측(most_similar_word): 다리\n",
            "단어(class_label): 쓰러지다, 예측(most_similar_word): 다리\n",
            "단어(class_label): 쓰러지다, 예측(most_similar_word): 다리\n",
            "단어(class_label): 쓰러지다, 예측(most_similar_word): 다리\n",
            "단어(class_label): 쓰러지다, 예측(most_similar_word): 다리\n",
            "단어(class_label): 쓰러지다, 예측(most_similar_word): 다리\n",
            "단어(class_label): 쓰러지다, 예측(most_similar_word): 다리\n",
            "단어(class_label): 쓰러지다, 예측(most_similar_word): 다리\n",
            "단어(class_label): 쓰러지다, 예측(most_similar_word): 다리\n",
            "단어(class_label): 쓰러지다, 예측(most_similar_word): 다리\n",
            "---------------------------------\n",
            "단어(class_label): 가렵다, 예측(most_similar_word): 다리\n",
            "단어(class_label): 가렵다, 예측(most_similar_word): 다리\n",
            "단어(class_label): 가렵다, 예측(most_similar_word): 다리\n",
            "단어(class_label): 가렵다, 예측(most_similar_word): 다리\n",
            "단어(class_label): 가렵다, 예측(most_similar_word): 다리\n",
            "단어(class_label): 가렵다, 예측(most_similar_word): 다리\n",
            "단어(class_label): 가렵다, 예측(most_similar_word): 다리\n",
            "단어(class_label): 가렵다, 예측(most_similar_word): 다리\n",
            "단어(class_label): 가렵다, 예측(most_similar_word): 다리\n",
            "단어(class_label): 가렵다, 예측(most_similar_word): 다리\n",
            "---------------------------------\n",
            "단어(class_label): 배고프다, 예측(most_similar_word): 다리\n",
            "단어(class_label): 배고프다, 예측(most_similar_word): 다리\n",
            "단어(class_label): 배고프다, 예측(most_similar_word): 다리\n",
            "단어(class_label): 배고프다, 예측(most_similar_word): 다리\n",
            "단어(class_label): 배고프다, 예측(most_similar_word): 다리\n",
            "단어(class_label): 배고프다, 예측(most_similar_word): 다리\n",
            "단어(class_label): 배고프다, 예측(most_similar_word): 다리\n",
            "단어(class_label): 배고프다, 예측(most_similar_word): 다리\n",
            "단어(class_label): 배고프다, 예측(most_similar_word): 다리\n",
            "단어(class_label): 배고프다, 예측(most_similar_word): 다리\n",
            "---------------------------------\n",
            "단어(class_label): 친구, 예측(most_similar_word): 다리\n",
            "단어(class_label): 친구, 예측(most_similar_word): 다리\n",
            "단어(class_label): 친구, 예측(most_similar_word): 다리\n",
            "단어(class_label): 친구, 예측(most_similar_word): 다리\n",
            "단어(class_label): 친구, 예측(most_similar_word): 다리\n",
            "단어(class_label): 친구, 예측(most_similar_word): 다리\n",
            "단어(class_label): 친구, 예측(most_similar_word): 다리\n",
            "단어(class_label): 친구, 예측(most_similar_word): 다리\n",
            "단어(class_label): 친구, 예측(most_similar_word): 다리\n",
            "단어(class_label): 친구, 예측(most_similar_word): 다리\n",
            "---------------------------------\n",
            "단어(class_label): 병원, 예측(most_similar_word): 다리\n",
            "단어(class_label): 병원, 예측(most_similar_word): 병원\n",
            "단어(class_label): 병원, 예측(most_similar_word): 병원\n",
            "단어(class_label): 병원, 예측(most_similar_word): 다리\n",
            "단어(class_label): 병원, 예측(most_similar_word): 다리\n",
            "단어(class_label): 병원, 예측(most_similar_word): 다리\n",
            "단어(class_label): 병원, 예측(most_similar_word): 다리\n",
            "단어(class_label): 병원, 예측(most_similar_word): 다리\n",
            "단어(class_label): 병원, 예측(most_similar_word): 다리\n",
            "단어(class_label): 병원, 예측(most_similar_word): 다리\n",
            "---------------------------------\n",
            "단어(class_label): 다리, 예측(most_similar_word): 다리\n",
            "단어(class_label): 다리, 예측(most_similar_word): 다리\n",
            "단어(class_label): 다리, 예측(most_similar_word): 다리\n",
            "단어(class_label): 다리, 예측(most_similar_word): 다리\n",
            "단어(class_label): 다리, 예측(most_similar_word): 다리\n",
            "단어(class_label): 다리, 예측(most_similar_word): 다리\n",
            "단어(class_label): 다리, 예측(most_similar_word): 다리\n",
            "단어(class_label): 다리, 예측(most_similar_word): 다리\n",
            "단어(class_label): 다리, 예측(most_similar_word): 다리\n",
            "단어(class_label): 다리, 예측(most_similar_word): 다리\n",
            "---------------------------------\n",
            "12 / 100\n"
          ]
        }
      ],
      "source": [
        "# acc_max = predict_with_dictionary(all_features, word_dictionary_max)\n",
        "acc_max = predict_with_dictionary(all_features, tmp_max)"
      ]
    },
    {
      "cell_type": "code",
      "execution_count": null,
      "metadata": {
        "colab": {
          "base_uri": "https://localhost:8080/"
        },
        "id": "jTds9ZNA63jy",
        "outputId": "d5bc01db-d394-454f-b955-879468a380eb"
      },
      "outputs": [
        {
          "output_type": "stream",
          "name": "stdout",
          "text": [
            "단어(class_label): 붕대, 예측(most_similar_word): 배고프다\n",
            "단어(class_label): 붕대, 예측(most_similar_word): 친구\n",
            "단어(class_label): 붕대, 예측(most_similar_word): 붕대\n",
            "단어(class_label): 붕대, 예측(most_similar_word): 쓰러지다\n",
            "단어(class_label): 붕대, 예측(most_similar_word): 붕대\n",
            "단어(class_label): 붕대, 예측(most_similar_word): 골절\n",
            "단어(class_label): 붕대, 예측(most_similar_word): 가렵다\n",
            "단어(class_label): 붕대, 예측(most_similar_word): 의사\n",
            "단어(class_label): 붕대, 예측(most_similar_word): 의사\n",
            "단어(class_label): 붕대, 예측(most_similar_word): 다리\n",
            "---------------------------------\n",
            "단어(class_label): 구급차, 예측(most_similar_word): 친구\n",
            "단어(class_label): 구급차, 예측(most_similar_word): 가렵다\n",
            "단어(class_label): 구급차, 예측(most_similar_word): 쓰러지다\n",
            "단어(class_label): 구급차, 예측(most_similar_word): 구급차\n",
            "단어(class_label): 구급차, 예측(most_similar_word): 가렵다\n",
            "단어(class_label): 구급차, 예측(most_similar_word): 배고프다\n",
            "단어(class_label): 구급차, 예측(most_similar_word): 구급차\n",
            "단어(class_label): 구급차, 예측(most_similar_word): 구급차\n",
            "단어(class_label): 구급차, 예측(most_similar_word): 구급차\n",
            "단어(class_label): 구급차, 예측(most_similar_word): 다리\n",
            "---------------------------------\n",
            "단어(class_label): 의사, 예측(most_similar_word): 가렵다\n",
            "단어(class_label): 의사, 예측(most_similar_word): 배고프다\n",
            "단어(class_label): 의사, 예측(most_similar_word): 다리\n",
            "단어(class_label): 의사, 예측(most_similar_word): 쓰러지다\n",
            "단어(class_label): 의사, 예측(most_similar_word): 배고프다\n",
            "단어(class_label): 의사, 예측(most_similar_word): 의사\n",
            "단어(class_label): 의사, 예측(most_similar_word): 병원\n",
            "단어(class_label): 의사, 예측(most_similar_word): 다리\n",
            "단어(class_label): 의사, 예측(most_similar_word): 가렵다\n",
            "단어(class_label): 의사, 예측(most_similar_word): 병원\n",
            "---------------------------------\n",
            "단어(class_label): 골절, 예측(most_similar_word): 의사\n",
            "단어(class_label): 골절, 예측(most_similar_word): 친구\n",
            "단어(class_label): 골절, 예측(most_similar_word): 친구\n",
            "단어(class_label): 골절, 예측(most_similar_word): 의사\n",
            "단어(class_label): 골절, 예측(most_similar_word): 의사\n",
            "단어(class_label): 골절, 예측(most_similar_word): 의사\n",
            "단어(class_label): 골절, 예측(most_similar_word): 골절\n",
            "단어(class_label): 골절, 예측(most_similar_word): 골절\n",
            "단어(class_label): 골절, 예측(most_similar_word): 골절\n",
            "단어(class_label): 골절, 예측(most_similar_word): 의사\n",
            "---------------------------------\n",
            "단어(class_label): 쓰러지다, 예측(most_similar_word): 구급차\n",
            "단어(class_label): 쓰러지다, 예측(most_similar_word): 구급차\n",
            "단어(class_label): 쓰러지다, 예측(most_similar_word): 구급차\n",
            "단어(class_label): 쓰러지다, 예측(most_similar_word): 쓰러지다\n",
            "단어(class_label): 쓰러지다, 예측(most_similar_word): 가렵다\n",
            "단어(class_label): 쓰러지다, 예측(most_similar_word): 쓰러지다\n",
            "단어(class_label): 쓰러지다, 예측(most_similar_word): 다리\n",
            "단어(class_label): 쓰러지다, 예측(most_similar_word): 가렵다\n",
            "단어(class_label): 쓰러지다, 예측(most_similar_word): 구급차\n",
            "단어(class_label): 쓰러지다, 예측(most_similar_word): 가렵다\n",
            "---------------------------------\n",
            "단어(class_label): 가렵다, 예측(most_similar_word): 가렵다\n",
            "단어(class_label): 가렵다, 예측(most_similar_word): 가렵다\n",
            "단어(class_label): 가렵다, 예측(most_similar_word): 쓰러지다\n",
            "단어(class_label): 가렵다, 예측(most_similar_word): 가렵다\n",
            "단어(class_label): 가렵다, 예측(most_similar_word): 친구\n",
            "단어(class_label): 가렵다, 예측(most_similar_word): 가렵다\n",
            "단어(class_label): 가렵다, 예측(most_similar_word): 가렵다\n",
            "단어(class_label): 가렵다, 예측(most_similar_word): 가렵다\n",
            "단어(class_label): 가렵다, 예측(most_similar_word): 가렵다\n",
            "단어(class_label): 가렵다, 예측(most_similar_word): 가렵다\n",
            "---------------------------------\n",
            "단어(class_label): 배고프다, 예측(most_similar_word): 가렵다\n",
            "단어(class_label): 배고프다, 예측(most_similar_word): 배고프다\n",
            "단어(class_label): 배고프다, 예측(most_similar_word): 의사\n",
            "단어(class_label): 배고프다, 예측(most_similar_word): 배고프다\n",
            "단어(class_label): 배고프다, 예측(most_similar_word): 배고프다\n",
            "단어(class_label): 배고프다, 예측(most_similar_word): 쓰러지다\n",
            "단어(class_label): 배고프다, 예측(most_similar_word): 배고프다\n",
            "단어(class_label): 배고프다, 예측(most_similar_word): 배고프다\n",
            "단어(class_label): 배고프다, 예측(most_similar_word): 배고프다\n",
            "단어(class_label): 배고프다, 예측(most_similar_word): 배고프다\n",
            "---------------------------------\n",
            "단어(class_label): 친구, 예측(most_similar_word): 다리\n",
            "단어(class_label): 친구, 예측(most_similar_word): 친구\n",
            "단어(class_label): 친구, 예측(most_similar_word): 구급차\n",
            "단어(class_label): 친구, 예측(most_similar_word): 붕대\n",
            "단어(class_label): 친구, 예측(most_similar_word): 배고프다\n",
            "단어(class_label): 친구, 예측(most_similar_word): 친구\n",
            "단어(class_label): 친구, 예측(most_similar_word): 친구\n",
            "단어(class_label): 친구, 예측(most_similar_word): 친구\n",
            "단어(class_label): 친구, 예측(most_similar_word): 구급차\n",
            "단어(class_label): 친구, 예측(most_similar_word): 친구\n",
            "---------------------------------\n",
            "단어(class_label): 병원, 예측(most_similar_word): 병원\n",
            "단어(class_label): 병원, 예측(most_similar_word): 병원\n",
            "단어(class_label): 병원, 예측(most_similar_word): 의사\n",
            "단어(class_label): 병원, 예측(most_similar_word): 의사\n",
            "단어(class_label): 병원, 예측(most_similar_word): 의사\n",
            "단어(class_label): 병원, 예측(most_similar_word): 의사\n",
            "단어(class_label): 병원, 예측(most_similar_word): 친구\n",
            "단어(class_label): 병원, 예측(most_similar_word): 의사\n",
            "단어(class_label): 병원, 예측(most_similar_word): 병원\n",
            "단어(class_label): 병원, 예측(most_similar_word): 병원\n",
            "---------------------------------\n",
            "단어(class_label): 다리, 예측(most_similar_word): 다리\n",
            "단어(class_label): 다리, 예측(most_similar_word): 구급차\n",
            "단어(class_label): 다리, 예측(most_similar_word): 다리\n",
            "단어(class_label): 다리, 예측(most_similar_word): 다리\n",
            "단어(class_label): 다리, 예측(most_similar_word): 다리\n",
            "단어(class_label): 다리, 예측(most_similar_word): 가렵다\n",
            "단어(class_label): 다리, 예측(most_similar_word): 다리\n",
            "단어(class_label): 다리, 예측(most_similar_word): 다리\n",
            "단어(class_label): 다리, 예측(most_similar_word): 다리\n",
            "단어(class_label): 다리, 예측(most_similar_word): 가렵다\n",
            "---------------------------------\n",
            "43 / 100\n"
          ]
        }
      ],
      "source": [
        "# acc_average = predict_with_dictionary(all_features, word_dictionary_average)\n",
        "acc_average = predict_with_dictionary(all_features, tmp_avg)"
      ]
    },
    {
      "cell_type": "code",
      "execution_count": null,
      "metadata": {
        "colab": {
          "base_uri": "https://localhost:8080/"
        },
        "id": "QZPGY38A7W1M",
        "outputId": "115803dc-6f8f-45a3-af33-546d8c2583e0"
      },
      "outputs": [
        {
          "output_type": "stream",
          "name": "stdout",
          "text": [
            "max_pooling : 0.12\n",
            "average_pooling : 0.43\n"
          ]
        }
      ],
      "source": [
        "print(f'max_pooling : {acc_max}')\n",
        "print(f'average_pooling : {acc_average}')"
      ]
    }
  ],
  "metadata": {
    "accelerator": "GPU",
    "colab": {
      "gpuType": "A100",
      "machine_shape": "hm",
      "provenance": []
    },
    "kernelspec": {
      "display_name": "Python 3",
      "name": "python3"
    },
    "language_info": {
      "name": "python"
    },
    "widgets": {
      "application/vnd.jupyter.widget-state+json": {
        "77a2e3787c14457fbecb66f73cd59759": {
          "model_module": "@jupyter-widgets/controls",
          "model_name": "HBoxModel",
          "model_module_version": "1.5.0",
          "state": {
            "_dom_classes": [],
            "_model_module": "@jupyter-widgets/controls",
            "_model_module_version": "1.5.0",
            "_model_name": "HBoxModel",
            "_view_count": null,
            "_view_module": "@jupyter-widgets/controls",
            "_view_module_version": "1.5.0",
            "_view_name": "HBoxView",
            "box_style": "",
            "children": [
              "IPY_MODEL_154670b0e6ba4422a0e4edcac2cf07bf",
              "IPY_MODEL_a0df5b27154241f28d9bc54ebb5012b8",
              "IPY_MODEL_3d2f8cacb6c14fa4bdd4d37e945dfc4a"
            ],
            "layout": "IPY_MODEL_90f2c4c512c54fedbc302bc6049b647e"
          }
        },
        "154670b0e6ba4422a0e4edcac2cf07bf": {
          "model_module": "@jupyter-widgets/controls",
          "model_name": "HTMLModel",
          "model_module_version": "1.5.0",
          "state": {
            "_dom_classes": [],
            "_model_module": "@jupyter-widgets/controls",
            "_model_module_version": "1.5.0",
            "_model_name": "HTMLModel",
            "_view_count": null,
            "_view_module": "@jupyter-widgets/controls",
            "_view_module_version": "1.5.0",
            "_view_name": "HTMLView",
            "description": "",
            "description_tooltip": null,
            "layout": "IPY_MODEL_9e4cd35857414fafb42cc5c9da1447a2",
            "placeholder": "​",
            "style": "IPY_MODEL_a961bd7ce0664d419bbf16a57474a3ad",
            "value": "preprocessor_config.json: 100%"
          }
        },
        "a0df5b27154241f28d9bc54ebb5012b8": {
          "model_module": "@jupyter-widgets/controls",
          "model_name": "FloatProgressModel",
          "model_module_version": "1.5.0",
          "state": {
            "_dom_classes": [],
            "_model_module": "@jupyter-widgets/controls",
            "_model_module_version": "1.5.0",
            "_model_name": "FloatProgressModel",
            "_view_count": null,
            "_view_module": "@jupyter-widgets/controls",
            "_view_module_version": "1.5.0",
            "_view_name": "ProgressView",
            "bar_style": "success",
            "description": "",
            "description_tooltip": null,
            "layout": "IPY_MODEL_afc6295165e549d2aebc7b421cbcb18f",
            "max": 724,
            "min": 0,
            "orientation": "horizontal",
            "style": "IPY_MODEL_acc841b2722a47c4a1ad41c47ba9f199",
            "value": 724
          }
        },
        "3d2f8cacb6c14fa4bdd4d37e945dfc4a": {
          "model_module": "@jupyter-widgets/controls",
          "model_name": "HTMLModel",
          "model_module_version": "1.5.0",
          "state": {
            "_dom_classes": [],
            "_model_module": "@jupyter-widgets/controls",
            "_model_module_version": "1.5.0",
            "_model_name": "HTMLModel",
            "_view_count": null,
            "_view_module": "@jupyter-widgets/controls",
            "_view_module_version": "1.5.0",
            "_view_name": "HTMLView",
            "description": "",
            "description_tooltip": null,
            "layout": "IPY_MODEL_bcafa54ce9a74c9caf5a81550d2ea4a3",
            "placeholder": "​",
            "style": "IPY_MODEL_07fe832e610545ba8952dcb3f20cd2c9",
            "value": " 724/724 [00:00&lt;00:00, 65.6kB/s]"
          }
        },
        "90f2c4c512c54fedbc302bc6049b647e": {
          "model_module": "@jupyter-widgets/base",
          "model_name": "LayoutModel",
          "model_module_version": "1.2.0",
          "state": {
            "_model_module": "@jupyter-widgets/base",
            "_model_module_version": "1.2.0",
            "_model_name": "LayoutModel",
            "_view_count": null,
            "_view_module": "@jupyter-widgets/base",
            "_view_module_version": "1.2.0",
            "_view_name": "LayoutView",
            "align_content": null,
            "align_items": null,
            "align_self": null,
            "border": null,
            "bottom": null,
            "display": null,
            "flex": null,
            "flex_flow": null,
            "grid_area": null,
            "grid_auto_columns": null,
            "grid_auto_flow": null,
            "grid_auto_rows": null,
            "grid_column": null,
            "grid_gap": null,
            "grid_row": null,
            "grid_template_areas": null,
            "grid_template_columns": null,
            "grid_template_rows": null,
            "height": null,
            "justify_content": null,
            "justify_items": null,
            "left": null,
            "margin": null,
            "max_height": null,
            "max_width": null,
            "min_height": null,
            "min_width": null,
            "object_fit": null,
            "object_position": null,
            "order": null,
            "overflow": null,
            "overflow_x": null,
            "overflow_y": null,
            "padding": null,
            "right": null,
            "top": null,
            "visibility": null,
            "width": null
          }
        },
        "9e4cd35857414fafb42cc5c9da1447a2": {
          "model_module": "@jupyter-widgets/base",
          "model_name": "LayoutModel",
          "model_module_version": "1.2.0",
          "state": {
            "_model_module": "@jupyter-widgets/base",
            "_model_module_version": "1.2.0",
            "_model_name": "LayoutModel",
            "_view_count": null,
            "_view_module": "@jupyter-widgets/base",
            "_view_module_version": "1.2.0",
            "_view_name": "LayoutView",
            "align_content": null,
            "align_items": null,
            "align_self": null,
            "border": null,
            "bottom": null,
            "display": null,
            "flex": null,
            "flex_flow": null,
            "grid_area": null,
            "grid_auto_columns": null,
            "grid_auto_flow": null,
            "grid_auto_rows": null,
            "grid_column": null,
            "grid_gap": null,
            "grid_row": null,
            "grid_template_areas": null,
            "grid_template_columns": null,
            "grid_template_rows": null,
            "height": null,
            "justify_content": null,
            "justify_items": null,
            "left": null,
            "margin": null,
            "max_height": null,
            "max_width": null,
            "min_height": null,
            "min_width": null,
            "object_fit": null,
            "object_position": null,
            "order": null,
            "overflow": null,
            "overflow_x": null,
            "overflow_y": null,
            "padding": null,
            "right": null,
            "top": null,
            "visibility": null,
            "width": null
          }
        },
        "a961bd7ce0664d419bbf16a57474a3ad": {
          "model_module": "@jupyter-widgets/controls",
          "model_name": "DescriptionStyleModel",
          "model_module_version": "1.5.0",
          "state": {
            "_model_module": "@jupyter-widgets/controls",
            "_model_module_version": "1.5.0",
            "_model_name": "DescriptionStyleModel",
            "_view_count": null,
            "_view_module": "@jupyter-widgets/base",
            "_view_module_version": "1.2.0",
            "_view_name": "StyleView",
            "description_width": ""
          }
        },
        "afc6295165e549d2aebc7b421cbcb18f": {
          "model_module": "@jupyter-widgets/base",
          "model_name": "LayoutModel",
          "model_module_version": "1.2.0",
          "state": {
            "_model_module": "@jupyter-widgets/base",
            "_model_module_version": "1.2.0",
            "_model_name": "LayoutModel",
            "_view_count": null,
            "_view_module": "@jupyter-widgets/base",
            "_view_module_version": "1.2.0",
            "_view_name": "LayoutView",
            "align_content": null,
            "align_items": null,
            "align_self": null,
            "border": null,
            "bottom": null,
            "display": null,
            "flex": null,
            "flex_flow": null,
            "grid_area": null,
            "grid_auto_columns": null,
            "grid_auto_flow": null,
            "grid_auto_rows": null,
            "grid_column": null,
            "grid_gap": null,
            "grid_row": null,
            "grid_template_areas": null,
            "grid_template_columns": null,
            "grid_template_rows": null,
            "height": null,
            "justify_content": null,
            "justify_items": null,
            "left": null,
            "margin": null,
            "max_height": null,
            "max_width": null,
            "min_height": null,
            "min_width": null,
            "object_fit": null,
            "object_position": null,
            "order": null,
            "overflow": null,
            "overflow_x": null,
            "overflow_y": null,
            "padding": null,
            "right": null,
            "top": null,
            "visibility": null,
            "width": null
          }
        },
        "acc841b2722a47c4a1ad41c47ba9f199": {
          "model_module": "@jupyter-widgets/controls",
          "model_name": "ProgressStyleModel",
          "model_module_version": "1.5.0",
          "state": {
            "_model_module": "@jupyter-widgets/controls",
            "_model_module_version": "1.5.0",
            "_model_name": "ProgressStyleModel",
            "_view_count": null,
            "_view_module": "@jupyter-widgets/base",
            "_view_module_version": "1.2.0",
            "_view_name": "StyleView",
            "bar_color": null,
            "description_width": ""
          }
        },
        "bcafa54ce9a74c9caf5a81550d2ea4a3": {
          "model_module": "@jupyter-widgets/base",
          "model_name": "LayoutModel",
          "model_module_version": "1.2.0",
          "state": {
            "_model_module": "@jupyter-widgets/base",
            "_model_module_version": "1.2.0",
            "_model_name": "LayoutModel",
            "_view_count": null,
            "_view_module": "@jupyter-widgets/base",
            "_view_module_version": "1.2.0",
            "_view_name": "LayoutView",
            "align_content": null,
            "align_items": null,
            "align_self": null,
            "border": null,
            "bottom": null,
            "display": null,
            "flex": null,
            "flex_flow": null,
            "grid_area": null,
            "grid_auto_columns": null,
            "grid_auto_flow": null,
            "grid_auto_rows": null,
            "grid_column": null,
            "grid_gap": null,
            "grid_row": null,
            "grid_template_areas": null,
            "grid_template_columns": null,
            "grid_template_rows": null,
            "height": null,
            "justify_content": null,
            "justify_items": null,
            "left": null,
            "margin": null,
            "max_height": null,
            "max_width": null,
            "min_height": null,
            "min_width": null,
            "object_fit": null,
            "object_position": null,
            "order": null,
            "overflow": null,
            "overflow_x": null,
            "overflow_y": null,
            "padding": null,
            "right": null,
            "top": null,
            "visibility": null,
            "width": null
          }
        },
        "07fe832e610545ba8952dcb3f20cd2c9": {
          "model_module": "@jupyter-widgets/controls",
          "model_name": "DescriptionStyleModel",
          "model_module_version": "1.5.0",
          "state": {
            "_model_module": "@jupyter-widgets/controls",
            "_model_module_version": "1.5.0",
            "_model_name": "DescriptionStyleModel",
            "_view_count": null,
            "_view_module": "@jupyter-widgets/base",
            "_view_module_version": "1.2.0",
            "_view_name": "StyleView",
            "description_width": ""
          }
        },
        "d9a72883b8204ecdbf7265eb069373a8": {
          "model_module": "@jupyter-widgets/controls",
          "model_name": "HBoxModel",
          "model_module_version": "1.5.0",
          "state": {
            "_dom_classes": [],
            "_model_module": "@jupyter-widgets/controls",
            "_model_module_version": "1.5.0",
            "_model_name": "HBoxModel",
            "_view_count": null,
            "_view_module": "@jupyter-widgets/controls",
            "_view_module_version": "1.5.0",
            "_view_name": "HBoxView",
            "box_style": "",
            "children": [
              "IPY_MODEL_b54a680745714b59a2039fad42368be3",
              "IPY_MODEL_521a89f9a2c74cf195201c2c51c72cfa",
              "IPY_MODEL_a97a67b87d3b42018c0ee35bc4541482"
            ],
            "layout": "IPY_MODEL_5095eb23410b4f36abd070d8fee8c0a2"
          }
        },
        "b54a680745714b59a2039fad42368be3": {
          "model_module": "@jupyter-widgets/controls",
          "model_name": "HTMLModel",
          "model_module_version": "1.5.0",
          "state": {
            "_dom_classes": [],
            "_model_module": "@jupyter-widgets/controls",
            "_model_module_version": "1.5.0",
            "_model_name": "HTMLModel",
            "_view_count": null,
            "_view_module": "@jupyter-widgets/controls",
            "_view_module_version": "1.5.0",
            "_view_name": "HTMLView",
            "description": "",
            "description_tooltip": null,
            "layout": "IPY_MODEL_6db122a8a895412c8e790351201e6236",
            "placeholder": "​",
            "style": "IPY_MODEL_e59b0eb9ef65412092d2b41d71d32e78",
            "value": "config.json: 100%"
          }
        },
        "521a89f9a2c74cf195201c2c51c72cfa": {
          "model_module": "@jupyter-widgets/controls",
          "model_name": "FloatProgressModel",
          "model_module_version": "1.5.0",
          "state": {
            "_dom_classes": [],
            "_model_module": "@jupyter-widgets/controls",
            "_model_module_version": "1.5.0",
            "_model_name": "FloatProgressModel",
            "_view_count": null,
            "_view_module": "@jupyter-widgets/controls",
            "_view_module_version": "1.5.0",
            "_view_name": "ProgressView",
            "bar_style": "success",
            "description": "",
            "description_tooltip": null,
            "layout": "IPY_MODEL_287444eb406740dbb0f0b358c8e6f6f0",
            "max": 1644,
            "min": 0,
            "orientation": "horizontal",
            "style": "IPY_MODEL_c7defa0f820a4e92bca94724d132696b",
            "value": 1644
          }
        },
        "a97a67b87d3b42018c0ee35bc4541482": {
          "model_module": "@jupyter-widgets/controls",
          "model_name": "HTMLModel",
          "model_module_version": "1.5.0",
          "state": {
            "_dom_classes": [],
            "_model_module": "@jupyter-widgets/controls",
            "_model_module_version": "1.5.0",
            "_model_name": "HTMLModel",
            "_view_count": null,
            "_view_module": "@jupyter-widgets/controls",
            "_view_module_version": "1.5.0",
            "_view_name": "HTMLView",
            "description": "",
            "description_tooltip": null,
            "layout": "IPY_MODEL_0e6ac98404ff4b648938df3db2ac51ac",
            "placeholder": "​",
            "style": "IPY_MODEL_a7d13ac39b6545ae92e154a73355b9fb",
            "value": " 1.64k/1.64k [00:00&lt;00:00, 111kB/s]"
          }
        },
        "5095eb23410b4f36abd070d8fee8c0a2": {
          "model_module": "@jupyter-widgets/base",
          "model_name": "LayoutModel",
          "model_module_version": "1.2.0",
          "state": {
            "_model_module": "@jupyter-widgets/base",
            "_model_module_version": "1.2.0",
            "_model_name": "LayoutModel",
            "_view_count": null,
            "_view_module": "@jupyter-widgets/base",
            "_view_module_version": "1.2.0",
            "_view_name": "LayoutView",
            "align_content": null,
            "align_items": null,
            "align_self": null,
            "border": null,
            "bottom": null,
            "display": null,
            "flex": null,
            "flex_flow": null,
            "grid_area": null,
            "grid_auto_columns": null,
            "grid_auto_flow": null,
            "grid_auto_rows": null,
            "grid_column": null,
            "grid_gap": null,
            "grid_row": null,
            "grid_template_areas": null,
            "grid_template_columns": null,
            "grid_template_rows": null,
            "height": null,
            "justify_content": null,
            "justify_items": null,
            "left": null,
            "margin": null,
            "max_height": null,
            "max_width": null,
            "min_height": null,
            "min_width": null,
            "object_fit": null,
            "object_position": null,
            "order": null,
            "overflow": null,
            "overflow_x": null,
            "overflow_y": null,
            "padding": null,
            "right": null,
            "top": null,
            "visibility": null,
            "width": null
          }
        },
        "6db122a8a895412c8e790351201e6236": {
          "model_module": "@jupyter-widgets/base",
          "model_name": "LayoutModel",
          "model_module_version": "1.2.0",
          "state": {
            "_model_module": "@jupyter-widgets/base",
            "_model_module_version": "1.2.0",
            "_model_name": "LayoutModel",
            "_view_count": null,
            "_view_module": "@jupyter-widgets/base",
            "_view_module_version": "1.2.0",
            "_view_name": "LayoutView",
            "align_content": null,
            "align_items": null,
            "align_self": null,
            "border": null,
            "bottom": null,
            "display": null,
            "flex": null,
            "flex_flow": null,
            "grid_area": null,
            "grid_auto_columns": null,
            "grid_auto_flow": null,
            "grid_auto_rows": null,
            "grid_column": null,
            "grid_gap": null,
            "grid_row": null,
            "grid_template_areas": null,
            "grid_template_columns": null,
            "grid_template_rows": null,
            "height": null,
            "justify_content": null,
            "justify_items": null,
            "left": null,
            "margin": null,
            "max_height": null,
            "max_width": null,
            "min_height": null,
            "min_width": null,
            "object_fit": null,
            "object_position": null,
            "order": null,
            "overflow": null,
            "overflow_x": null,
            "overflow_y": null,
            "padding": null,
            "right": null,
            "top": null,
            "visibility": null,
            "width": null
          }
        },
        "e59b0eb9ef65412092d2b41d71d32e78": {
          "model_module": "@jupyter-widgets/controls",
          "model_name": "DescriptionStyleModel",
          "model_module_version": "1.5.0",
          "state": {
            "_model_module": "@jupyter-widgets/controls",
            "_model_module_version": "1.5.0",
            "_model_name": "DescriptionStyleModel",
            "_view_count": null,
            "_view_module": "@jupyter-widgets/base",
            "_view_module_version": "1.2.0",
            "_view_name": "StyleView",
            "description_width": ""
          }
        },
        "287444eb406740dbb0f0b358c8e6f6f0": {
          "model_module": "@jupyter-widgets/base",
          "model_name": "LayoutModel",
          "model_module_version": "1.2.0",
          "state": {
            "_model_module": "@jupyter-widgets/base",
            "_model_module_version": "1.2.0",
            "_model_name": "LayoutModel",
            "_view_count": null,
            "_view_module": "@jupyter-widgets/base",
            "_view_module_version": "1.2.0",
            "_view_name": "LayoutView",
            "align_content": null,
            "align_items": null,
            "align_self": null,
            "border": null,
            "bottom": null,
            "display": null,
            "flex": null,
            "flex_flow": null,
            "grid_area": null,
            "grid_auto_columns": null,
            "grid_auto_flow": null,
            "grid_auto_rows": null,
            "grid_column": null,
            "grid_gap": null,
            "grid_row": null,
            "grid_template_areas": null,
            "grid_template_columns": null,
            "grid_template_rows": null,
            "height": null,
            "justify_content": null,
            "justify_items": null,
            "left": null,
            "margin": null,
            "max_height": null,
            "max_width": null,
            "min_height": null,
            "min_width": null,
            "object_fit": null,
            "object_position": null,
            "order": null,
            "overflow": null,
            "overflow_x": null,
            "overflow_y": null,
            "padding": null,
            "right": null,
            "top": null,
            "visibility": null,
            "width": null
          }
        },
        "c7defa0f820a4e92bca94724d132696b": {
          "model_module": "@jupyter-widgets/controls",
          "model_name": "ProgressStyleModel",
          "model_module_version": "1.5.0",
          "state": {
            "_model_module": "@jupyter-widgets/controls",
            "_model_module_version": "1.5.0",
            "_model_name": "ProgressStyleModel",
            "_view_count": null,
            "_view_module": "@jupyter-widgets/base",
            "_view_module_version": "1.2.0",
            "_view_name": "StyleView",
            "bar_color": null,
            "description_width": ""
          }
        },
        "0e6ac98404ff4b648938df3db2ac51ac": {
          "model_module": "@jupyter-widgets/base",
          "model_name": "LayoutModel",
          "model_module_version": "1.2.0",
          "state": {
            "_model_module": "@jupyter-widgets/base",
            "_model_module_version": "1.2.0",
            "_model_name": "LayoutModel",
            "_view_count": null,
            "_view_module": "@jupyter-widgets/base",
            "_view_module_version": "1.2.0",
            "_view_name": "LayoutView",
            "align_content": null,
            "align_items": null,
            "align_self": null,
            "border": null,
            "bottom": null,
            "display": null,
            "flex": null,
            "flex_flow": null,
            "grid_area": null,
            "grid_auto_columns": null,
            "grid_auto_flow": null,
            "grid_auto_rows": null,
            "grid_column": null,
            "grid_gap": null,
            "grid_row": null,
            "grid_template_areas": null,
            "grid_template_columns": null,
            "grid_template_rows": null,
            "height": null,
            "justify_content": null,
            "justify_items": null,
            "left": null,
            "margin": null,
            "max_height": null,
            "max_width": null,
            "min_height": null,
            "min_width": null,
            "object_fit": null,
            "object_position": null,
            "order": null,
            "overflow": null,
            "overflow_x": null,
            "overflow_y": null,
            "padding": null,
            "right": null,
            "top": null,
            "visibility": null,
            "width": null
          }
        },
        "a7d13ac39b6545ae92e154a73355b9fb": {
          "model_module": "@jupyter-widgets/controls",
          "model_name": "DescriptionStyleModel",
          "model_module_version": "1.5.0",
          "state": {
            "_model_module": "@jupyter-widgets/controls",
            "_model_module_version": "1.5.0",
            "_model_name": "DescriptionStyleModel",
            "_view_count": null,
            "_view_module": "@jupyter-widgets/base",
            "_view_module_version": "1.2.0",
            "_view_name": "StyleView",
            "description_width": ""
          }
        },
        "b788cf7f83994fcfba15f638d97db4e8": {
          "model_module": "@jupyter-widgets/controls",
          "model_name": "HBoxModel",
          "model_module_version": "1.5.0",
          "state": {
            "_dom_classes": [],
            "_model_module": "@jupyter-widgets/controls",
            "_model_module_version": "1.5.0",
            "_model_name": "HBoxModel",
            "_view_count": null,
            "_view_module": "@jupyter-widgets/controls",
            "_view_module_version": "1.5.0",
            "_view_name": "HBoxView",
            "box_style": "",
            "children": [
              "IPY_MODEL_a99b99e3bdbc47248f53b86f0e65f6b0",
              "IPY_MODEL_d7e17b2ddb8e439e9525d90691785dbd",
              "IPY_MODEL_f95f9d20b7d24b6b9e69709a721308e2"
            ],
            "layout": "IPY_MODEL_48c5a89e81674019ba2f3cbf64a1290f"
          }
        },
        "a99b99e3bdbc47248f53b86f0e65f6b0": {
          "model_module": "@jupyter-widgets/controls",
          "model_name": "HTMLModel",
          "model_module_version": "1.5.0",
          "state": {
            "_dom_classes": [],
            "_model_module": "@jupyter-widgets/controls",
            "_model_module_version": "1.5.0",
            "_model_name": "HTMLModel",
            "_view_count": null,
            "_view_module": "@jupyter-widgets/controls",
            "_view_module_version": "1.5.0",
            "_view_name": "HTMLView",
            "description": "",
            "description_tooltip": null,
            "layout": "IPY_MODEL_5ed1e99b815d468aa88a3326a9675ea2",
            "placeholder": "​",
            "style": "IPY_MODEL_b04428ffd8c243c6bfaa006bf6dd9d56",
            "value": "model.safetensors: 100%"
          }
        },
        "d7e17b2ddb8e439e9525d90691785dbd": {
          "model_module": "@jupyter-widgets/controls",
          "model_name": "FloatProgressModel",
          "model_module_version": "1.5.0",
          "state": {
            "_dom_classes": [],
            "_model_module": "@jupyter-widgets/controls",
            "_model_module_version": "1.5.0",
            "_model_name": "FloatProgressModel",
            "_view_count": null,
            "_view_module": "@jupyter-widgets/controls",
            "_view_module_version": "1.5.0",
            "_view_name": "ProgressView",
            "bar_style": "success",
            "description": "",
            "description_tooltip": null,
            "layout": "IPY_MODEL_ebdcbbb67d6441b98adb3bc60244ee48",
            "max": 354639992,
            "min": 0,
            "orientation": "horizontal",
            "style": "IPY_MODEL_c13020a5ccff487ba0c1f7d0396995b6",
            "value": 354639992
          }
        },
        "f95f9d20b7d24b6b9e69709a721308e2": {
          "model_module": "@jupyter-widgets/controls",
          "model_name": "HTMLModel",
          "model_module_version": "1.5.0",
          "state": {
            "_dom_classes": [],
            "_model_module": "@jupyter-widgets/controls",
            "_model_module_version": "1.5.0",
            "_model_name": "HTMLModel",
            "_view_count": null,
            "_view_module": "@jupyter-widgets/controls",
            "_view_module_version": "1.5.0",
            "_view_name": "HTMLView",
            "description": "",
            "description_tooltip": null,
            "layout": "IPY_MODEL_edda63d0101b489f9c3093629e5ec03b",
            "placeholder": "​",
            "style": "IPY_MODEL_4baa3004621944a7b7640f9dce2ef060",
            "value": " 355M/355M [00:00&lt;00:00, 513MB/s]"
          }
        },
        "48c5a89e81674019ba2f3cbf64a1290f": {
          "model_module": "@jupyter-widgets/base",
          "model_name": "LayoutModel",
          "model_module_version": "1.2.0",
          "state": {
            "_model_module": "@jupyter-widgets/base",
            "_model_module_version": "1.2.0",
            "_model_name": "LayoutModel",
            "_view_count": null,
            "_view_module": "@jupyter-widgets/base",
            "_view_module_version": "1.2.0",
            "_view_name": "LayoutView",
            "align_content": null,
            "align_items": null,
            "align_self": null,
            "border": null,
            "bottom": null,
            "display": null,
            "flex": null,
            "flex_flow": null,
            "grid_area": null,
            "grid_auto_columns": null,
            "grid_auto_flow": null,
            "grid_auto_rows": null,
            "grid_column": null,
            "grid_gap": null,
            "grid_row": null,
            "grid_template_areas": null,
            "grid_template_columns": null,
            "grid_template_rows": null,
            "height": null,
            "justify_content": null,
            "justify_items": null,
            "left": null,
            "margin": null,
            "max_height": null,
            "max_width": null,
            "min_height": null,
            "min_width": null,
            "object_fit": null,
            "object_position": null,
            "order": null,
            "overflow": null,
            "overflow_x": null,
            "overflow_y": null,
            "padding": null,
            "right": null,
            "top": null,
            "visibility": null,
            "width": null
          }
        },
        "5ed1e99b815d468aa88a3326a9675ea2": {
          "model_module": "@jupyter-widgets/base",
          "model_name": "LayoutModel",
          "model_module_version": "1.2.0",
          "state": {
            "_model_module": "@jupyter-widgets/base",
            "_model_module_version": "1.2.0",
            "_model_name": "LayoutModel",
            "_view_count": null,
            "_view_module": "@jupyter-widgets/base",
            "_view_module_version": "1.2.0",
            "_view_name": "LayoutView",
            "align_content": null,
            "align_items": null,
            "align_self": null,
            "border": null,
            "bottom": null,
            "display": null,
            "flex": null,
            "flex_flow": null,
            "grid_area": null,
            "grid_auto_columns": null,
            "grid_auto_flow": null,
            "grid_auto_rows": null,
            "grid_column": null,
            "grid_gap": null,
            "grid_row": null,
            "grid_template_areas": null,
            "grid_template_columns": null,
            "grid_template_rows": null,
            "height": null,
            "justify_content": null,
            "justify_items": null,
            "left": null,
            "margin": null,
            "max_height": null,
            "max_width": null,
            "min_height": null,
            "min_width": null,
            "object_fit": null,
            "object_position": null,
            "order": null,
            "overflow": null,
            "overflow_x": null,
            "overflow_y": null,
            "padding": null,
            "right": null,
            "top": null,
            "visibility": null,
            "width": null
          }
        },
        "b04428ffd8c243c6bfaa006bf6dd9d56": {
          "model_module": "@jupyter-widgets/controls",
          "model_name": "DescriptionStyleModel",
          "model_module_version": "1.5.0",
          "state": {
            "_model_module": "@jupyter-widgets/controls",
            "_model_module_version": "1.5.0",
            "_model_name": "DescriptionStyleModel",
            "_view_count": null,
            "_view_module": "@jupyter-widgets/base",
            "_view_module_version": "1.2.0",
            "_view_name": "StyleView",
            "description_width": ""
          }
        },
        "ebdcbbb67d6441b98adb3bc60244ee48": {
          "model_module": "@jupyter-widgets/base",
          "model_name": "LayoutModel",
          "model_module_version": "1.2.0",
          "state": {
            "_model_module": "@jupyter-widgets/base",
            "_model_module_version": "1.2.0",
            "_model_name": "LayoutModel",
            "_view_count": null,
            "_view_module": "@jupyter-widgets/base",
            "_view_module_version": "1.2.0",
            "_view_name": "LayoutView",
            "align_content": null,
            "align_items": null,
            "align_self": null,
            "border": null,
            "bottom": null,
            "display": null,
            "flex": null,
            "flex_flow": null,
            "grid_area": null,
            "grid_auto_columns": null,
            "grid_auto_flow": null,
            "grid_auto_rows": null,
            "grid_column": null,
            "grid_gap": null,
            "grid_row": null,
            "grid_template_areas": null,
            "grid_template_columns": null,
            "grid_template_rows": null,
            "height": null,
            "justify_content": null,
            "justify_items": null,
            "left": null,
            "margin": null,
            "max_height": null,
            "max_width": null,
            "min_height": null,
            "min_width": null,
            "object_fit": null,
            "object_position": null,
            "order": null,
            "overflow": null,
            "overflow_x": null,
            "overflow_y": null,
            "padding": null,
            "right": null,
            "top": null,
            "visibility": null,
            "width": null
          }
        },
        "c13020a5ccff487ba0c1f7d0396995b6": {
          "model_module": "@jupyter-widgets/controls",
          "model_name": "ProgressStyleModel",
          "model_module_version": "1.5.0",
          "state": {
            "_model_module": "@jupyter-widgets/controls",
            "_model_module_version": "1.5.0",
            "_model_name": "ProgressStyleModel",
            "_view_count": null,
            "_view_module": "@jupyter-widgets/base",
            "_view_module_version": "1.2.0",
            "_view_name": "StyleView",
            "bar_color": null,
            "description_width": ""
          }
        },
        "edda63d0101b489f9c3093629e5ec03b": {
          "model_module": "@jupyter-widgets/base",
          "model_name": "LayoutModel",
          "model_module_version": "1.2.0",
          "state": {
            "_model_module": "@jupyter-widgets/base",
            "_model_module_version": "1.2.0",
            "_model_name": "LayoutModel",
            "_view_count": null,
            "_view_module": "@jupyter-widgets/base",
            "_view_module_version": "1.2.0",
            "_view_name": "LayoutView",
            "align_content": null,
            "align_items": null,
            "align_self": null,
            "border": null,
            "bottom": null,
            "display": null,
            "flex": null,
            "flex_flow": null,
            "grid_area": null,
            "grid_auto_columns": null,
            "grid_auto_flow": null,
            "grid_auto_rows": null,
            "grid_column": null,
            "grid_gap": null,
            "grid_row": null,
            "grid_template_areas": null,
            "grid_template_columns": null,
            "grid_template_rows": null,
            "height": null,
            "justify_content": null,
            "justify_items": null,
            "left": null,
            "margin": null,
            "max_height": null,
            "max_width": null,
            "min_height": null,
            "min_width": null,
            "object_fit": null,
            "object_position": null,
            "order": null,
            "overflow": null,
            "overflow_x": null,
            "overflow_y": null,
            "padding": null,
            "right": null,
            "top": null,
            "visibility": null,
            "width": null
          }
        },
        "4baa3004621944a7b7640f9dce2ef060": {
          "model_module": "@jupyter-widgets/controls",
          "model_name": "DescriptionStyleModel",
          "model_module_version": "1.5.0",
          "state": {
            "_model_module": "@jupyter-widgets/controls",
            "_model_module_version": "1.5.0",
            "_model_name": "DescriptionStyleModel",
            "_view_count": null,
            "_view_module": "@jupyter-widgets/base",
            "_view_module_version": "1.2.0",
            "_view_name": "StyleView",
            "description_width": ""
          }
        }
      }
    }
  },
  "nbformat": 4,
  "nbformat_minor": 0
}